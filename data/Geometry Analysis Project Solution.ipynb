{
 "cells": [
  {
   "cell_type": "code",
   "execution_count": 6,
   "metadata": {},
   "outputs": [],
   "source": [
    "import numpy\n",
    "import os \n",
    "file_location = os.path.join('../data', 'water.xyz')\n",
    "xyz_file = numpy.genfromtxt(fname=file_location,skip_header=2, dtype='unicode')\n",
    "symbols = xyz_file[:,0]\n",
    "coordinates = xyz_file[:,1:]\n",
    "coordinates = coordinates.astype(numpy.float)"
   ]
  },
  {
   "cell_type": "code",
   "execution_count": 9,
   "metadata": {},
   "outputs": [
    {
     "name": "stdout",
     "output_type": "stream",
     "text": [
      "O to H1 : 0.969\n",
      "O to H2 : 0.969\n"
     ]
    }
   ],
   "source": [
    "num_atoms = len(symbols)\n",
    "for num1 in range(0,num_atoms):\n",
    "    for num2 in range(0, num_atoms):\n",
    "        if(num1<num2):\n",
    "            x_d = coordinates[num1,0] - coordinates[num2, 0]\n",
    "            y_d = coordinates[num1,1] - coordinates[num2, 1]\n",
    "            z_d = coordinates[num1,2] - coordinates[num2, 2]\n",
    "            d = numpy.sqrt(x_d**2+y_d**2+z_d**2)\n",
    "            if d>0 and d <1.5:\n",
    "                print(F'{symbols[num1]} to {symbols[num2]} : {d:.3F}')"
   ]
  },
  {
   "cell_type": "code",
   "execution_count": 10,
   "metadata": {},
   "outputs": [],
   "source": [
    "def distance(index, num1, num2, coordinates):\n",
    "    return coordinates[num1,index] - coordinates[num2, index]"
   ]
  },
  {
   "cell_type": "code",
   "execution_count": 11,
   "metadata": {},
   "outputs": [
    {
     "name": "stdout",
     "output_type": "stream",
     "text": [
      "O to H1 : 0.969\n",
      "O to H2 : 0.969\n"
     ]
    }
   ],
   "source": [
    "for num1 in range(0,num_atoms):\n",
    "    for num2 in range(0, num_atoms):\n",
    "        if(num1<num2):\n",
    "            x_d = distance(0,num1,num2, coordinates)\n",
    "            y_d = distance(1,num1,num2, coordinates)\n",
    "            z_d = distance(2,num1,num2, coordinates)\n",
    "            d = numpy.sqrt(x_d**2+y_d**2+z_d**2)\n",
    "            if d>0 and d <1.5:\n",
    "                print(F'{symbols[num1]} to {symbols[num2]} : {d:.3F}')"
   ]
  },
  {
   "cell_type": "code",
   "execution_count": 17,
   "metadata": {},
   "outputs": [],
   "source": [
    "def cal_distance(atom1_coord, atom2_coord):\n",
    "    \"\"\"\n",
    "    This function takes the cnoordinaes of two coordinates and return the distance\n",
    "    Inputs: Atom1 Coords Atom2 Coords\n",
    "    Return: distance\n",
    "    \"\"\"\n",
    "    x_d = atom1_coord[0] - atom2_coord[0]\n",
    "    y_d = atom1_coord[1] - atom2_coord[1]\n",
    "    z_d = atom1_coord[2] - atom2_coord[2]\n",
    "    return numpy.sqrt(x_d**2+y_d**2+z_d**2)"
   ]
  },
  {
   "cell_type": "code",
   "execution_count": 15,
   "metadata": {},
   "outputs": [
    {
     "name": "stdout",
     "output_type": "stream",
     "text": [
      "O to H1 : 0.969\n",
      "O to H2 : 0.969\n"
     ]
    }
   ],
   "source": [
    "for num1 in range(0,num_atoms):\n",
    "    for num2 in range(0, num_atoms):\n",
    "        if(num1<num2):\n",
    "            d = cal_distance(coordinates[num1],coordinates[num2])\n",
    "            if d>0 and d <1.5:\n",
    "                print(F'{symbols[num1]} to {symbols[num2]} : {d:.3F}')"
   ]
  },
  {
   "cell_type": "code",
   "execution_count": 18,
   "metadata": {},
   "outputs": [
    {
     "name": "stdout",
     "output_type": "stream",
     "text": [
      "Help on function cal_distance in module __main__:\n",
      "\n",
      "cal_distance(atom1_coord, atom2_coord)\n",
      "    This function takes the cnoordinaes of two coordinates and return the distance\n",
      "    Inputs: Atom1 Coords Atom2 Coords\n",
      "    Return: distance\n",
      "\n"
     ]
    }
   ],
   "source": [
    "help(cal_distance)"
   ]
  },
  {
   "cell_type": "code",
   "execution_count": 19,
   "metadata": {},
   "outputs": [],
   "source": [
    "def bound_check(d):\n",
    "    \"\"\"\n",
    "    This function check if the distance is greater than 0 or less than 1.5\n",
    "    Inputs: distance\n",
    "    Return: True or False\n",
    "    \"\"\"\n",
    "    return d>0 and d <1.5"
   ]
  },
  {
   "cell_type": "code",
   "execution_count": 20,
   "metadata": {},
   "outputs": [
    {
     "name": "stdout",
     "output_type": "stream",
     "text": [
      "O to H1 : 0.969\n",
      "O to H2 : 0.969\n"
     ]
    }
   ],
   "source": [
    "for num1 in range(0,num_atoms):\n",
    "    for num2 in range(0, num_atoms):\n",
    "        if(num1<num2):\n",
    "            d = cal_distance(coordinates[num1],coordinates[num2])\n",
    "            if bound_check(d):\n",
    "                print(F'{symbols[num1]} to {symbols[num2]} : {d:.3F}')"
   ]
  },
  {
   "cell_type": "code",
   "execution_count": 21,
   "metadata": {},
   "outputs": [
    {
     "name": "stdout",
     "output_type": "stream",
     "text": [
      "Help on function bound_check in module __main__:\n",
      "\n",
      "bound_check(d)\n",
      "    This function check if the distance is greater than 0 or less than 1.5\n",
      "    Inputs: distance\n",
      "    Return: True or False\n",
      "\n"
     ]
    }
   ],
   "source": [
    "help(bound_check)"
   ]
  },
  {
   "cell_type": "code",
   "execution_count": 23,
   "metadata": {},
   "outputs": [
    {
     "data": {
      "text/plain": [
       "True"
      ]
     },
     "execution_count": 23,
     "metadata": {},
     "output_type": "execute_result"
    }
   ],
   "source": [
    "bound_check(1)"
   ]
  },
  {
   "cell_type": "code",
   "execution_count": 24,
   "metadata": {},
   "outputs": [
    {
     "data": {
      "text/plain": [
       "False"
      ]
     },
     "execution_count": 24,
     "metadata": {},
     "output_type": "execute_result"
    }
   ],
   "source": [
    "bound_check(-1)"
   ]
  },
  {
   "cell_type": "code",
   "execution_count": 25,
   "metadata": {},
   "outputs": [],
   "source": [
    "def bound_check_mod(d, min_length, max_length):\n",
    "    \"\"\"\n",
    "    This function check if the distance is greater than 0 or less than 1.5\n",
    "    Inputs: distance and min max length\n",
    "    Return: True or False\n",
    "    \"\"\"\n",
    "    return d>min_length and d <max_length"
   ]
  },
  {
   "cell_type": "code",
   "execution_count": 26,
   "metadata": {},
   "outputs": [
    {
     "data": {
      "text/plain": [
       "False"
      ]
     },
     "execution_count": 26,
     "metadata": {},
     "output_type": "execute_result"
    }
   ],
   "source": [
    "bound_check_mod(1, 3, 5)"
   ]
  },
  {
   "cell_type": "code",
   "execution_count": 30,
   "metadata": {},
   "outputs": [],
   "source": [
    "def bound_check_mod(d, min_length=0, max_length=1.5):\n",
    "    \"\"\"\n",
    "    This function check if the distance is greater than 0 or less than 1.5\n",
    "    Inputs: distance and min max length with default 0 and 1.5\n",
    "    Return: True or False\n",
    "    \"\"\"\n",
    "    return d>min_length and d <max_length"
   ]
  },
  {
   "cell_type": "code",
   "execution_count": 31,
   "metadata": {},
   "outputs": [
    {
     "data": {
      "text/plain": [
       "True"
      ]
     },
     "execution_count": 31,
     "metadata": {},
     "output_type": "execute_result"
    }
   ],
   "source": [
    "bound_check_mod(1)"
   ]
  },
  {
   "cell_type": "code",
   "execution_count": 45,
   "metadata": {},
   "outputs": [
    {
     "name": "stdout",
     "output_type": "stream",
     "text": [
      "<class 'numpy.bool_'>\n",
      "True\n",
      "O to H1 : 0.969\n",
      "<class 'numpy.bool_'>\n",
      "True\n",
      "O to H2 : 0.969\n"
     ]
    }
   ],
   "source": [
    "for num1 in range(0,num_atoms):\n",
    "    for num2 in range(0, num_atoms):\n",
    "        if(num1<num2):\n",
    "            d = cal_distance(coordinates[num1],coordinates[num2])\n",
    "            if bound_check_mod(d) == True:\n",
    "                print(type(bound_check_mod(d)))\n",
    "                print(bound_check_mod(d))\n",
    "                print(F'{symbols[num1]} to {symbols[num2]} : {d:.3F}')"
   ]
  },
  {
   "cell_type": "code",
   "execution_count": 41,
   "metadata": {},
   "outputs": [],
   "source": [
    "#Write a Function that read in and processes an xyz file\n",
    "#Funtion name open_xyZ\n",
    "#input the filename \n",
    "#two outpust symbols and coordinates\n",
    "\n",
    "def open_xyz(filename, path='../data'):\n",
    "    \"\"\"\n",
    "    This function return symbols and coordinates from a file \n",
    "    Inputs: filename, file paths\n",
    "    Return symbols and coordinates\n",
    "    \"\"\"\n",
    "    file_location = os.path.join(path, filename)\n",
    "    xyz_file = numpy.genfromtxt(fname=file_location,skip_header=2, dtype='unicode')\n",
    "    symbols = xyz_file[:,0]\n",
    "    coordinates = xyz_file[:,1:]\n",
    "    coordinates = coordinates.astype(numpy.float)\n",
    "    return symbols, coordinates\n",
    "\n"
   ]
  },
  {
   "cell_type": "code",
   "execution_count": 44,
   "metadata": {},
   "outputs": [
    {
     "name": "stdout",
     "output_type": "stream",
     "text": [
      "O to H1 : 0.969\n",
      "O to H2 : 0.969\n"
     ]
    }
   ],
   "source": [
    "symbols1, coordinates1 = open_xyz('water.xyz')\n",
    "for num1 in range(0,num_atoms):\n",
    "    for num2 in range(0, num_atoms):\n",
    "        if(num1<num2):\n",
    "            d = cal_distance(coordinates1[num1],coordinates1[num2])\n",
    "            if bound_check_mod(d):\n",
    "                #print(type(bound_check_mod(d)))\n",
    "                #print(bound_check_mod(d))\n",
    "                print(F'{symbols1[num1]} to {symbols1[num2]} : {d:.3F}')"
   ]
  },
  {
   "cell_type": "code",
   "execution_count": null,
   "metadata": {},
   "outputs": [],
   "source": []
  }
 ],
 "metadata": {
  "kernelspec": {
   "display_name": "Python 3",
   "language": "python",
   "name": "python3"
  },
  "language_info": {
   "codemirror_mode": {
    "name": "ipython",
    "version": 3
   },
   "file_extension": ".py",
   "mimetype": "text/x-python",
   "name": "python",
   "nbconvert_exporter": "python",
   "pygments_lexer": "ipython3",
   "version": "3.7.3"
  }
 },
 "nbformat": 4,
 "nbformat_minor": 2
}
