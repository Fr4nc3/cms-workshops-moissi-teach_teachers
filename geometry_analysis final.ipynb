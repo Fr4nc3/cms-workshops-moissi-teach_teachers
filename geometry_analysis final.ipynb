{
 "cells": [
  {
   "cell_type": "code",
   "execution_count": null,
   "metadata": {},
   "outputs": [],
   "source": [
    "import numpy\n",
    "import os \n",
    "def bound_check_mod(d, min_length=0, max_length=1.5):\n",
    "    \"\"\"\n",
    "    This function check if the distance is greater than 0 or less than 1.5\n",
    "    Inputs: distance and min max length with default 0 and 1.5\n",
    "    Return: True or False\n",
    "    \"\"\"\n",
    "    return d>min_length and d <max_length"
   ]
  }
 ],
 "metadata": {
  "kernelspec": {
   "display_name": "Python 3",
   "language": "python",
   "name": "python3"
  },
  "language_info": {
   "codemirror_mode": {
    "name": "ipython",
    "version": 3
   },
   "file_extension": ".py",
   "mimetype": "text/x-python",
   "name": "python",
   "nbconvert_exporter": "python",
   "pygments_lexer": "ipython3",
   "version": "3.7.3"
  }
 },
 "nbformat": 4,
 "nbformat_minor": 2
}
